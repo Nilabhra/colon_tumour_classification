{
 "cells": [
  {
   "cell_type": "code",
   "execution_count": 1,
   "metadata": {
    "collapsed": false
   },
   "outputs": [],
   "source": [
    "import pandas as pd\n",
    "import numpy as np\n",
    "from sklearn.decomposition import KernelPCA\n",
    "from matplotlib import pyplot as plt\n",
    "from sklearn.neural_network import MLPClassifier\n",
    "from sklearn.model_selection import LeaveOneOut\n",
    "from sklearn.metrics import classification_report\n",
    "from collections import Counter\n",
    "%matplotlib inline"
   ]
  },
  {
   "cell_type": "markdown",
   "metadata": {},
   "source": [
    "### Reading in the *'colonTumor.data'* file and checking the dimensions:"
   ]
  },
  {
   "cell_type": "code",
   "execution_count": 2,
   "metadata": {
    "collapsed": false
   },
   "outputs": [
    {
     "name": "stdout",
     "output_type": "stream",
     "text": [
      "(62, 2001)\n"
     ]
    }
   ],
   "source": [
    "data = pd.read_csv('colonTumor.data', header=None)\n",
    "print data.shape"
   ]
  },
  {
   "cell_type": "markdown",
   "metadata": {},
   "source": [
    "### Observations:\n",
    "- The number of features is far greater than the number of samples.\n",
    "- Almost any ML algorithm will overfit the dataset very easily.\n",
    "\n",
    "### Inference:\n",
    "- There might be a need for either feature selection or feature decomposition.\n",
    "- Cross validation would be the ideal way to evaluate a model's performance for the given dataset."
   ]
  },
  {
   "cell_type": "markdown",
   "metadata": {},
   "source": [
    "### Indexing columns from 1 and renaming the targets as *'label'*"
   ]
  },
  {
   "cell_type": "code",
   "execution_count": 3,
   "metadata": {
    "collapsed": false
   },
   "outputs": [
    {
     "data": {
      "text/html": [
       "<div>\n",
       "<table border=\"1\" class=\"dataframe\">\n",
       "  <thead>\n",
       "    <tr style=\"text-align: right;\">\n",
       "      <th></th>\n",
       "      <th>1</th>\n",
       "      <th>2</th>\n",
       "      <th>3</th>\n",
       "      <th>4</th>\n",
       "      <th>5</th>\n",
       "      <th>6</th>\n",
       "      <th>7</th>\n",
       "      <th>8</th>\n",
       "      <th>9</th>\n",
       "      <th>10</th>\n",
       "      <th>...</th>\n",
       "      <th>1992</th>\n",
       "      <th>1993</th>\n",
       "      <th>1994</th>\n",
       "      <th>1995</th>\n",
       "      <th>1996</th>\n",
       "      <th>1997</th>\n",
       "      <th>1998</th>\n",
       "      <th>1999</th>\n",
       "      <th>2000</th>\n",
       "      <th>label</th>\n",
       "    </tr>\n",
       "  </thead>\n",
       "  <tbody>\n",
       "    <tr>\n",
       "      <th>0</th>\n",
       "      <td>8589.4163</td>\n",
       "      <td>5468.2409</td>\n",
       "      <td>4263.4075</td>\n",
       "      <td>4064.9357</td>\n",
       "      <td>1997.8929</td>\n",
       "      <td>5282.3250</td>\n",
       "      <td>2169.7200</td>\n",
       "      <td>2773.4212</td>\n",
       "      <td>7526.3862</td>\n",
       "      <td>4607.6762</td>\n",
       "      <td>...</td>\n",
       "      <td>67.56125</td>\n",
       "      <td>259.91250</td>\n",
       "      <td>138.89875</td>\n",
       "      <td>88.23250</td>\n",
       "      <td>39.667857</td>\n",
       "      <td>67.82875</td>\n",
       "      <td>75.67750</td>\n",
       "      <td>83.52250</td>\n",
       "      <td>28.70125</td>\n",
       "      <td>negative</td>\n",
       "    </tr>\n",
       "    <tr>\n",
       "      <th>1</th>\n",
       "      <td>9164.2537</td>\n",
       "      <td>6719.5295</td>\n",
       "      <td>4883.4487</td>\n",
       "      <td>3718.1589</td>\n",
       "      <td>2015.2214</td>\n",
       "      <td>5569.9071</td>\n",
       "      <td>3849.0588</td>\n",
       "      <td>2793.3875</td>\n",
       "      <td>7017.7338</td>\n",
       "      <td>4802.2524</td>\n",
       "      <td>...</td>\n",
       "      <td>92.23875</td>\n",
       "      <td>96.27625</td>\n",
       "      <td>150.59000</td>\n",
       "      <td>82.23750</td>\n",
       "      <td>85.033333</td>\n",
       "      <td>152.19500</td>\n",
       "      <td>186.56750</td>\n",
       "      <td>44.47250</td>\n",
       "      <td>16.77375</td>\n",
       "      <td>positive</td>\n",
       "    </tr>\n",
       "    <tr>\n",
       "      <th>2</th>\n",
       "      <td>3825.7050</td>\n",
       "      <td>6970.3614</td>\n",
       "      <td>5369.9688</td>\n",
       "      <td>4705.6500</td>\n",
       "      <td>1166.5536</td>\n",
       "      <td>1572.1679</td>\n",
       "      <td>1325.4025</td>\n",
       "      <td>1472.2587</td>\n",
       "      <td>3296.9512</td>\n",
       "      <td>2786.5821</td>\n",
       "      <td>...</td>\n",
       "      <td>82.71500</td>\n",
       "      <td>31.10250</td>\n",
       "      <td>193.92000</td>\n",
       "      <td>76.97250</td>\n",
       "      <td>224.620240</td>\n",
       "      <td>31.22500</td>\n",
       "      <td>42.65625</td>\n",
       "      <td>16.09250</td>\n",
       "      <td>15.15625</td>\n",
       "      <td>negative</td>\n",
       "    </tr>\n",
       "    <tr>\n",
       "      <th>3</th>\n",
       "      <td>6246.4487</td>\n",
       "      <td>7823.5341</td>\n",
       "      <td>5955.8350</td>\n",
       "      <td>3975.5643</td>\n",
       "      <td>2002.6131</td>\n",
       "      <td>2130.5429</td>\n",
       "      <td>1531.1425</td>\n",
       "      <td>1714.6312</td>\n",
       "      <td>3869.7850</td>\n",
       "      <td>4989.4071</td>\n",
       "      <td>...</td>\n",
       "      <td>41.68375</td>\n",
       "      <td>5.92500</td>\n",
       "      <td>183.00625</td>\n",
       "      <td>74.52875</td>\n",
       "      <td>67.710714</td>\n",
       "      <td>48.33875</td>\n",
       "      <td>42.52000</td>\n",
       "      <td>49.98250</td>\n",
       "      <td>16.08500</td>\n",
       "      <td>positive</td>\n",
       "    </tr>\n",
       "    <tr>\n",
       "      <th>4</th>\n",
       "      <td>3230.3287</td>\n",
       "      <td>3694.4500</td>\n",
       "      <td>3400.7400</td>\n",
       "      <td>3463.5857</td>\n",
       "      <td>2181.4202</td>\n",
       "      <td>2922.7821</td>\n",
       "      <td>2069.2463</td>\n",
       "      <td>2948.5750</td>\n",
       "      <td>3303.3712</td>\n",
       "      <td>3109.4131</td>\n",
       "      <td>...</td>\n",
       "      <td>76.60375</td>\n",
       "      <td>161.35000</td>\n",
       "      <td>61.70125</td>\n",
       "      <td>54.56375</td>\n",
       "      <td>223.359520</td>\n",
       "      <td>73.09875</td>\n",
       "      <td>57.59875</td>\n",
       "      <td>7.48875</td>\n",
       "      <td>31.81250</td>\n",
       "      <td>negative</td>\n",
       "    </tr>\n",
       "  </tbody>\n",
       "</table>\n",
       "<p>5 rows × 2001 columns</p>\n",
       "</div>"
      ],
      "text/plain": [
       "           1          2          3          4          5          6  \\\n",
       "0  8589.4163  5468.2409  4263.4075  4064.9357  1997.8929  5282.3250   \n",
       "1  9164.2537  6719.5295  4883.4487  3718.1589  2015.2214  5569.9071   \n",
       "2  3825.7050  6970.3614  5369.9688  4705.6500  1166.5536  1572.1679   \n",
       "3  6246.4487  7823.5341  5955.8350  3975.5643  2002.6131  2130.5429   \n",
       "4  3230.3287  3694.4500  3400.7400  3463.5857  2181.4202  2922.7821   \n",
       "\n",
       "           7          8          9         10    ...         1992       1993  \\\n",
       "0  2169.7200  2773.4212  7526.3862  4607.6762    ...     67.56125  259.91250   \n",
       "1  3849.0588  2793.3875  7017.7338  4802.2524    ...     92.23875   96.27625   \n",
       "2  1325.4025  1472.2587  3296.9512  2786.5821    ...     82.71500   31.10250   \n",
       "3  1531.1425  1714.6312  3869.7850  4989.4071    ...     41.68375    5.92500   \n",
       "4  2069.2463  2948.5750  3303.3712  3109.4131    ...     76.60375  161.35000   \n",
       "\n",
       "        1994      1995        1996       1997       1998      1999      2000  \\\n",
       "0  138.89875  88.23250   39.667857   67.82875   75.67750  83.52250  28.70125   \n",
       "1  150.59000  82.23750   85.033333  152.19500  186.56750  44.47250  16.77375   \n",
       "2  193.92000  76.97250  224.620240   31.22500   42.65625  16.09250  15.15625   \n",
       "3  183.00625  74.52875   67.710714   48.33875   42.52000  49.98250  16.08500   \n",
       "4   61.70125  54.56375  223.359520   73.09875   57.59875   7.48875  31.81250   \n",
       "\n",
       "      label  \n",
       "0  negative  \n",
       "1  positive  \n",
       "2  negative  \n",
       "3  positive  \n",
       "4  negative  \n",
       "\n",
       "[5 rows x 2001 columns]"
      ]
     },
     "execution_count": 3,
     "metadata": {},
     "output_type": "execute_result"
    }
   ],
   "source": [
    "cols = list(data.columns+1)\n",
    "cols.remove(2001)\n",
    "cols.append('label')\n",
    "data.columns = cols\n",
    "data.head()"
   ]
  },
  {
   "cell_type": "markdown",
   "metadata": {},
   "source": [
    "### Checking for class imbalance:"
   ]
  },
  {
   "cell_type": "code",
   "execution_count": 4,
   "metadata": {
    "collapsed": false
   },
   "outputs": [
    {
     "name": "stdout",
     "output_type": "stream",
     "text": [
      "Counter({'negative': 40, 'positive': 22})\n"
     ]
    }
   ],
   "source": [
    "print Counter(data['label'])"
   ]
  },
  {
   "cell_type": "markdown",
   "metadata": {},
   "source": [
    "### Deductions:\n",
    "- We have roughly a 65-35 % split between 'positive' and 'negative' samples.\n",
    "- Accuracy will be a skewed metric for the dataset, a better alternative is **precision**."
   ]
  },
  {
   "cell_type": "markdown",
   "metadata": {},
   "source": [
    "### Checking for structure in the data by visualisation:\n",
    "- Applying PCA with a *cosine* kernel on the 2000 features and decomposing down to two features.\n",
    "- Using the two features to plot the data using a scatter plot.\n",
    "\n",
    "**Note: The *'cosine'* kernel was selected via trial and error**."
   ]
  },
  {
   "cell_type": "code",
   "execution_count": 5,
   "metadata": {
    "collapsed": false
   },
   "outputs": [
    {
     "data": {
      "image/png": "[encoded data removed]",
      "text/plain": [
       "<matplotlib.figure.Figure at 0x7fc04eb4f450>"
      ]
     },
     "metadata": {},
     "output_type": "display_data"
    }
   ],
   "source": [
    "model = KernelPCA(n_components=2, kernel='cosine', gamma=10)\n",
    "decomposed_data = model.fit_transform(data.drop(['label'], axis=1))\n",
    "plt.figure()\n",
    "plt.scatter(decomposed_data[np.where(data['label'] == 'positive'), 0],\n",
    "            decomposed_data[np.where(data['label'] == 'positive'), 1],\n",
    "        marker='x', color='b',\n",
    "        alpha=0.8, label='positive')\n",
    "plt.scatter(decomposed_data[np.where(data['label'] == 'negative'), 0],\n",
    "            decomposed_data[np.where(data['label'] == 'negative'), 1],\n",
    "        marker='^', color='r',\n",
    "        alpha=0.8, label='negative')\n",
    "plt.legend(loc='best')\n",
    "plt.title('K-PCA scatter plot')\n",
    "plt.show()"
   ]
  },
  {
   "cell_type": "markdown",
   "metadata": {},
   "source": [
    "### Observations:\n",
    "- There is definitely a visible structure in the data.\n",
    "- There are clearly some outliers in the data when projected in 2D.\n",
    "\n",
    "### Inference:\n",
    "- Feature decompostion will work well for the dataset.\n",
    "- There is no clean way to identify the outliers, better to keep them for now since data is already scarce and they might not be real outliers in a hyperspace."
   ]
  },
  {
   "cell_type": "markdown",
   "metadata": {},
   "source": [
    "# Model Building\n",
    "\n",
    "### Decomposing dataset:\n",
    "- Using Kernel PCA to decompose the dataset into 4 features.\n",
    "\n",
    "**Note: n_components=4 was found to be optimal via manual search**."
   ]
  },
  {
   "cell_type": "code",
   "execution_count": 6,
   "metadata": {
    "collapsed": true
   },
   "outputs": [],
   "source": [
    "kernel = KernelPCA(n_components=4, kernel='cosine')\n",
    "decomposed_data = kernel.fit_transform(data.drop(['label'], axis=1))"
   ]
  },
  {
   "cell_type": "markdown",
   "metadata": {},
   "source": [
    "### Classification and validation:\n",
    "\n",
    "- Since the dataset has only 62 samples, 'Leave one out' cross validation was chosen.\n",
    "- This is the best estimation of the out of sample performance that we can get.\n",
    "- The final model that was chosen was a multi-layered perceptron with ReLu units. Sklearn's implentation was used directly to create, train and validate the model.\n",
    "- Other models that were tried are logistic regression, adaboost, random forest and support vector machine, but MLP gave far superior precision.\n",
    "- The hyper-parameters were chosen manually."
   ]
  },
  {
   "cell_type": "code",
   "execution_count": 7,
   "metadata": {
    "collapsed": false
   },
   "outputs": [],
   "source": [
    "# Creating a leave-one-out validator.\n",
    "loocv = LeaveOneOut()\n",
    "\n",
    "# Creating an MLP with optimal set of hyperparameters.\n",
    "mlp_model = MLPClassifier(hidden_layer_sizes=(20, 10, 5), activation='relu',\n",
    "                          alpha=0.01, max_iter=800,tol=0.0001, epsilon=1e-6)"
   ]
  },
  {
   "cell_type": "markdown",
   "metadata": {},
   "source": [
    "### For each of the 62 splits of the data:\n",
    "\n",
    "- The MLP is trained with 61 samples.\n",
    "- The prediction for 1 data point (which is not present in the train set) is obtained."
   ]
  },
  {
   "cell_type": "code",
   "execution_count": 8,
   "metadata": {
    "collapsed": false
   },
   "outputs": [
    {
     "name": "stderr",
     "output_type": "stream",
     "text": [
      "/home/nilabhra/anaconda/lib/python2.7/site-packages/sklearn/neural_network/multilayer_perceptron.py:563: ConvergenceWarning: Stochastic Optimizer: Maximum iterations reached and the optimization hasn't converged yet.\n",
      "  % (), ConvergenceWarning)\n"
     ]
    }
   ],
   "source": [
    "# Creating empty lists to store the prediction and true label for each split of data.\n",
    "preds = []\n",
    "labels = []\n",
    "\n",
    "# Iterating through all the 62 splits of data.\n",
    "for train_idx, test_idx in loocv.split(decomposed_data):\n",
    "    # Training the model with the train set of decomposed features.\n",
    "    mlp_model.fit(decomposed_data[train_idx, :], data.iloc[train_idx, -1])\n",
    "    \n",
    "    # Obtaining prediction for the test data point.\n",
    "    pred = mlp_model.predict(decomposed_data[test_idx, :])\n",
    "    \n",
    "    # Appending prediction and true label to the lists.\n",
    "    preds.append(pred[0])\n",
    "    labels.append(data.iloc[test_idx, -1].values[0])\n"
   ]
  },
  {
   "cell_type": "markdown",
   "metadata": {},
   "source": [
    "### Generating classification report:"
   ]
  },
  {
   "cell_type": "code",
   "execution_count": 9,
   "metadata": {
    "collapsed": false
   },
   "outputs": [
    {
     "name": "stdout",
     "output_type": "stream",
     "text": [
      "             precision    recall  f1-score   support\n",
      "\n",
      "   negative       0.90      0.90      0.90        40\n",
      "   positive       0.82      0.82      0.82        22\n",
      "\n",
      "avg / total       0.87      0.87      0.87        62\n",
      "\n"
     ]
    }
   ],
   "source": [
    "# Using the prediction and label lists to generate classification report.\n",
    "print classification_report(labels, preds)"
   ]
  }
 ],
 "metadata": {
  "kernelspec": {
   "display_name": "Python 2",
   "language": "python",
   "name": "python2"
  },
  "language_info": {
   "codemirror_mode": {
    "name": "ipython",
    "version": 2
   },
   "file_extension": ".py",
   "mimetype": "text/x-python",
   "name": "python",
   "nbconvert_exporter": "python",
   "pygments_lexer": "ipython2",
   "version": "2.7.12"
  }
 },
 "nbformat": 4,
 "nbformat_minor": 1
}
